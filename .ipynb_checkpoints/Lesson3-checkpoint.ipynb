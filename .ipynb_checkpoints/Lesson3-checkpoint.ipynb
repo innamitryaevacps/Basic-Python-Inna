{
 "cells": [
  {
   "cell_type": "markdown",
   "metadata": {
    "collapsed": true
   },
   "source": [
    "<center>\n",
    "<img src=\"../img/python_theme.png\">\n",
    "# MLClass. \"Прикладной анализ данных\"\n",
    "# Модуль \"Инструментарий Data Science\"\n",
    "<img src=\"../img/mlclass_logo.jpg\" height=\"240\" width=\"240\">\n",
    "\n",
    "## Автор материала: Юрий Кашницкий, ФКН НИУ ВШЭ\n",
    "</center>\n",
    "Материал распространяется на условиях лицензии <a href=\"https://opensource.org/licenses/MS-RL\">Ms-RL</a>. Можно использовать в любых целях, кроме коммерческих, но с обязательным упоминанием автора материала."
   ]
  },
  {
   "cell_type": "markdown",
   "metadata": {},
   "source": [
    "# Задачи к уроку 3\n",
    "http://informatics.mccme.ru/mod/statements/view.php?id=16206#1"
   ]
  },
  {
   "cell_type": "code",
   "execution_count": 1,
   "metadata": {
    "collapsed": true
   },
   "outputs": [],
   "source": [
    "# Python 2 and 3 compatibility\n",
    "# pip install future\n",
    "from __future__ import (absolute_import, division,\n",
    "                        print_function, unicode_literals)\n",
    "from builtins import *"
   ]
  },
  {
   "cell_type": "markdown",
   "metadata": {},
   "source": [
    "## Задача A\n",
    "Даны два целых числа A и B (при этом A $\\leq$ B). Выведите все числа от A до B включительно."
   ]
  },
  {
   "cell_type": "code",
   "execution_count": 1,
   "metadata": {},
   "outputs": [],
   "source": [
    "A = int(input())\n",
    "B = int(input())\n",
    "for x in range(A, B+1):\n",
    "    print(x)"
   ]
  },
  {
   "cell_type": "markdown",
   "metadata": {},
   "source": [
    "## Задача B\n",
    "По данному натуральном n вычислите сумму $1^2+2^2+3^2+ \\ldots +n^2$."
   ]
  },
  {
   "cell_type": "code",
   "execution_count": 2,
   "metadata": {},
   "outputs": [],
   "source": [
    "n = int(input())\n",
    "summa = 0\n",
    "for x in range(1, n+1):\n",
    "    summa += x*x\n",
    "print(summa)"
   ]
  },
  {
   "cell_type": "markdown",
   "metadata": {},
   "source": [
    "## Задача C\n",
    "По данному целому неотрицательному n вычислите значение n!."
   ]
  },
  {
   "cell_type": "code",
   "execution_count": 3,
   "metadata": {},
   "outputs": [],
   "source": [
    "n = int(input())\n",
    "num = 1\n",
    "summa = 1\n",
    "while num < n:\n",
    "    num += 1\n",
    "    summa *= num\n",
    "print(summa)"
   ]
  },
  {
   "cell_type": "markdown",
   "metadata": {},
   "source": [
    "## Задача D\n",
    "По данным целым неотрицательным n и k вычислите значение числа сочетаний из n элементов по k, то есть $\\frac{n!}{k!(n-k)!}$."
   ]
  },
  {
   "cell_type": "code",
   "execution_count": 4,
   "metadata": {},
   "outputs": [],
   "source": [
    "n = int(input())\n",
    "k = int(input())\n",
    "def factorial(n):\n",
    "    num = 1\n",
    "    summa = 1\n",
    "    while num < n:\n",
    "        num += 1\n",
    "        summa *= num\n",
    "    return summa\n",
    "print(factorial(n)/(factorial(k)*factorial(n-k)))"
   ]
  },
  {
   "cell_type": "markdown",
   "metadata": {},
   "source": [
    "## Задача E\n",
    "Напишите программу, которая по данному числу n от 1 до 9 выводит на экран n пингвинов. Изображение одного пингвина имеет размер 5×9 символов, между двумя соседними пингвинами также имеется пустой (из пробелов) столбец. Разрешается вывести пустой столбец после последнего пингвина. Для упрощения рисования скопируйте пингвина из примера в среду разработки.\n",
    "\n"
   ]
  },
  {
   "cell_type": "code",
   "execution_count": 5,
   "metadata": {},
   "outputs": [],
   "source": [
    "penguine = [\"   _~_    \",\n",
    "            \"  (o o)   \",\n",
    "            \" /  V  \\ \",\n",
    "            \"/(  _  )\\ \",\n",
    "            \"  ^^ ^^   \"]"
   ]
  },
  {
   "cell_type": "code",
   "execution_count": 6,
   "metadata": {
    "collapsed": true
   },
   "outputs": [],
   "source": [
    "n = int(input())\n",
    "penguine = [\"   _~_    \",\n",
    "            \"  (o o)   \",\n",
    "            \" /  V  \\ \",\n",
    "            \"/(  _  )\\ \",\n",
    "            \"  ^^ ^^   \"]\n",
    "for i in range(len(penguine)):\n",
    "    print(penguine[i]*n)"
   ]
  },
  {
   "cell_type": "markdown",
   "metadata": {
    "collapsed": true
   },
   "source": [
    "## Задача F\n",
    "Шоколадка имеет вид прямоугольника, разделенного на n×m долек. Шоколадку можно один раз разломить по прямой на две части. Определите, можно ли таким образом отломить от шоколадки ровно k долек."
   ]
  },
  {
   "cell_type": "code",
   "execution_count": 7,
   "metadata": {},
   "outputs": [],
   "source": [
    "n = int(input())\n",
    "m = int(input())\n",
    "k = int(input())\n",
    "print(\"YES\" if k%n == 0 or k%m == 0 else \"NO\")"
   ]
  },
  {
   "cell_type": "markdown",
   "metadata": {},
   "source": [
    "## Задача G\n",
    "Дано линейное уравнение $ax + b = 0$. Решите уравнение, напечатайте ответ. Если ответов бесконечно много, выведите \"INF\", если их нет - \"NO\"."
   ]
  },
  {
   "cell_type": "code",
   "execution_count": 8,
   "metadata": {},
   "outputs": [],
   "source": [
    "a = int(input())\n",
    "b = int(input())\n",
    "if a == 0:\n",
    "    if b == 0:\n",
    "        print(\"INF\")\n",
    "    else:\n",
    "        print(\"NO\")\n",
    "print(-b/a)"
   ]
  },
  {
   "cell_type": "markdown",
   "metadata": {},
   "source": [
    "## Задача H\n",
    "Для данного числа n < 100 закончите фразу “На лугу пасется...” одним из возможных продолжений: “n коров”, “n корова”, “n коровы”, правильно склоняя слово “корова”."
   ]
  },
  {
   "cell_type": "code",
   "execution_count": 9,
   "metadata": {},
   "outputs": [],
   "source": [
    "n = int(input())\n",
    "phrase = \"На лугу пасется {} коров\".format(n)\n",
    "if str(n)[-1] == \"1\" and n != 11:\n",
    "    print(phrase + \"а\")\n",
    "elif (str(n)[-1] == \"2\" or str(n)[-1] == \"3\" or str(n)[-1] == \"4\") and n!= 12 and n != 13 and n!= 14:\n",
    "    print(phrase + \"ы\")\n",
    "else:    \n",
    "    print(phrase)"
   ]
  },
  {
   "cell_type": "markdown",
   "metadata": {},
   "source": [
    "# Задача I. Диофантово уравнение"
   ]
  },
  {
   "cell_type": "markdown",
   "metadata": {},
   "source": [
    "Даны числа a, b, c, d. Выведите в порядке возрастания все целые числа от 0 до 1000, которые являются корнями уравнения $ax^3+bx^2+cx+d=0$."
   ]
  },
  {
   "cell_type": "code",
   "execution_count": 10,
   "metadata": {},
   "outputs": [],
   "source": [
    "a = int(input())\n",
    "b = int(input())\n",
    "c = int(input())\n",
    "d = int(input())\n",
    "for x in range(1001):\n",
    "    if a*(x**3) + b*(x**2) + c*x + d == 0:\n",
    "        print(x)"
   ]
  },
  {
   "cell_type": "markdown",
   "metadata": {},
   "source": [
    "## Задача J\n",
    "Квадрат трехзначного числа оканчивается тремя цифрами, равными этому числу. Найдите и выведите все такие числа."
   ]
  },
  {
   "cell_type": "code",
   "execution_count": 11,
   "metadata": {},
   "outputs": [],
   "source": [
    "for x in range(100, 1000):\n",
    "    if str(x) == str(x**2)[-3:]:\n",
    "        print(x)"
   ]
  },
  {
   "cell_type": "markdown",
   "metadata": {},
   "source": [
    "## Задача K\n",
    "По данному натуральному $n \\leq 9$ выведите лесенку из n ступенек, i-я ступенька состоит из чисел от 1 до i без пробелов."
   ]
  },
  {
   "cell_type": "code",
   "execution_count": 3,
   "metadata": {
    "tags": []
   },
   "outputs": [
    {
     "name": "stdout",
     "output_type": "stream",
     "text": [
      "\n",
      "1\n",
      "12\n",
      "123\n",
      "1234\n",
      "12345\n",
      "123456\n",
      "1234567\n"
     ]
    }
   ],
   "source": [
    "n = int(input())\n",
    "nums = \"123456789\"\n",
    "for i in range(n+1):\n",
    "    print(nums[:i])"
   ]
  },
  {
   "cell_type": "markdown",
   "metadata": {},
   "source": [
    "## Задача L\n",
    "Дано три числа. Упорядочите их в порядке неубывания. Программа должна считывать три числа a, b, c, затем программа должна менять их значения так, чтобы стали выполнены условия $a \\leq b \\leq c$, затем программа выводит тройку a, b, c."
   ]
  },
  {
   "cell_type": "code",
   "execution_count": 7,
   "metadata": {
    "tags": []
   },
   "outputs": [
    {
     "name": "stdout",
     "output_type": "stream",
     "text": [
      "3 5 7\n"
     ]
    }
   ],
   "source": [
    "a = int(input())\n",
    "b = int(input())\n",
    "c = int(input())\n",
    "\n",
    "if a > b:\n",
    "    a, b = b, a\n",
    "if a > c:\n",
    "    a, c = c, a\n",
    "if b > c:\n",
    "    b, c = c, b\n",
    "print(a, b, c)"
   ]
  },
  {
   "cell_type": "markdown",
   "metadata": {},
   "source": [
    "## Задача M\n",
    "Давным-давно билет на одну поездку в метро стоил 15 рубля, билет на 10 поездок стоил 125 рублей, билет на 60 поездок стоил 440 рублей. Пассажир планирует совершить n поездок. Определите, сколько билетов каждого вида он должен приобрести, чтобы суммарное количество оплаченных поездок было не меньше n, а общая стоимость приобретенных билетов — минимальна."
   ]
  },
  {
   "cell_type": "code",
   "execution_count": 12,
   "metadata": {
    "tags": []
   },
   "outputs": [
    {
     "name": "stdout",
     "output_type": "stream",
     "text": [
      "7 0 1\n"
     ]
    }
   ],
   "source": [
    "n = int(input())\n",
    "\n",
    "n1, n2, n3 = 1, 10, 60\n",
    "p1, p2, p3 = 15, 125, 440\n",
    "\n",
    "q_n1 = n%n2\n",
    "q_n2 = (n%n3)//n2\n",
    "q_n3 = n//n3\n",
    "\n",
    "if p1*q_n1 > p2:\n",
    "    q_n1 = 0\n",
    "    q_n2 += 1\n",
    "if p1*q_n1 + p2*q_n2 > p3:\n",
    "    q_n1 = 0\n",
    "    q_n2 = 0\n",
    "    q_n3 += 1\n",
    "\n",
    "print(q_n1, q_n2, q_n3)"
   ]
  },
  {
   "cell_type": "markdown",
   "metadata": {},
   "source": [
    "Попробуйте решить как задачу линейного программирования с помощью SciPy"
   ]
  },
  {
   "cell_type": "code",
   "execution_count": 19,
   "metadata": {
    "tags": []
   },
   "outputs": [
    {
     "name": "stdout",
     "output_type": "stream",
     "text": [
      "con: array([], dtype=float64)\n",
      "     fun: 432.66666666827354\n",
      " message: 'Optimization terminated successfully.'\n",
      "     nit: 5\n",
      "   slack: array([1.37966083e-10])\n",
      "  status: 0\n",
      " success: True\n",
      "       x: array([3.13580917e-11, 6.86459038e-12, 9.83333333e-01])\n"
     ]
    }
   ],
   "source": [
    "from scipy.optimize import linprog\n",
    "\n",
    "n = int(input())\n",
    "\n",
    "n1, n2, n3 = 1, 10, 60\n",
    "p1, p2, p3 = 15, 125, 440\n",
    "\n",
    "c = [p1, p2, p3]\n",
    "A = [[-n1, -n2, -n3]]\n",
    "b = [-n]\n",
    "q_n1_bounds, q_n2_bounds, q_n3_bounds = (0, None), (0, None), (0, None)\n",
    "\n",
    "res = linprog(c, A, b, bounds=(q_n1_bounds, q_n2_bounds, q_n3_bounds))\n",
    "\n",
    "print(res)"
   ]
  },
  {
   "cell_type": "markdown",
   "metadata": {},
   "source": [
    "## Задача N. Сумма факториалов\n",
    "По данному натуральном n вычислите сумму 1! + 2! + 3! + ... +n!. В решении этой задачи можно использовать только один цикл."
   ]
  },
  {
   "cell_type": "code",
   "execution_count": 15,
   "metadata": {
    "tags": []
   },
   "outputs": [
    {
     "name": "stdout",
     "output_type": "stream",
     "text": [
      "33\n"
     ]
    }
   ],
   "source": [
    "n = int(input())\n",
    "\n",
    "addend = 1\n",
    "total_sum = 0\n",
    "for i in range(n):\n",
    "    addend *= i+1\n",
    "    total_sum += addend\n",
    "print(total_sum)"
   ]
  },
  {
   "cell_type": "code",
   "execution_count": null,
   "metadata": {},
   "outputs": [],
   "source": []
  }
 ],
 "metadata": {
  "kernelspec": {
   "display_name": "Python 3",
   "language": "python",
   "name": "python3"
  },
  "language_info": {
   "codemirror_mode": {
    "name": "ipython",
    "version": 3
   },
   "file_extension": ".py",
   "mimetype": "text/x-python",
   "name": "python",
   "nbconvert_exporter": "python",
   "pygments_lexer": "ipython3",
   "version": "3.7.6"
  },
  "name": "seminar1_python_intro_tools.ipynb"
 },
 "nbformat": 4,
 "nbformat_minor": 1
}
