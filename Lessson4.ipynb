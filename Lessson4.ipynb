{
 "cells": [
  {
   "cell_type": "markdown",
   "metadata": {},
   "source": [
    "<center>\n",
    "<img src=\"../img/python_theme.png\">\n",
    "# MLClass. \"Прикладной анализ данных\"\n",
    "# Модуль \"Инструментарий Data Science\"\n",
    "<img src=\"../img/mlclass_logo.jpg\" height=\"240\" width=\"240\">\n",
    "\n",
    "## Автор материала: Юрий Кашницкий, ФКН НИУ ВШЭ\n",
    "</center>\n",
    "Материал распространяется на условиях лицензии <a href=\"https://opensource.org/licenses/MS-RL\">Ms-RL</a>. Можно использовать в любых целях, кроме коммерческих, но с обязательным упоминанием автора материала."
   ]
  },
  {
   "cell_type": "markdown",
   "metadata": {},
   "source": [
    "# Задачи к уроку 4\n",
    "http://informatics.mccme.ru/mod/statements/view.php?id=16560#1"
   ]
  },
  {
   "cell_type": "code",
   "execution_count": null,
   "metadata": {
    "collapsed": true
   },
   "outputs": [],
   "source": [
    "# Python 2 and 3 compatibility\n",
    "# pip install future\n",
    "from __future__ import (absolute_import, division,\n",
    "                        print_function, unicode_literals)\n",
    "from builtins import *"
   ]
  },
  {
   "cell_type": "markdown",
   "metadata": {},
   "source": [
    "## Задача A\n",
    "Выведите все элементы списка с четными индексами (то есть A[0], A[2], A[4], ...).\n",
    "Программа должна быть эффективной и не выполнять лишних действий!"
   ]
  },
  {
   "cell_type": "code",
   "execution_count": null,
   "metadata": {
    "tags": []
   },
   "outputs": [],
   "source": [
    "ls = [1, 2, 3, 4, 5, 6, 7, 8, 9, 10]\n",
    "print(ls[::2])"
   ]
  },
  {
   "cell_type": "markdown",
   "metadata": {},
   "source": [
    "## Задача B\n",
    "Дана строка, состоящая из слов, разделенных пробелами. Определите, сколько в ней слов. Используйте для решения задачи метод count."
   ]
  },
  {
   "cell_type": "code",
   "execution_count": null,
   "metadata": {
    "tags": []
   },
   "outputs": [],
   "source": [
    "s = input()\n",
    "print(s.count(\" \")+1)"
   ]
  },
  {
   "cell_type": "markdown",
   "metadata": {},
   "source": [
    "## Задача C\n",
    "Дана строка, состоящая ровно из двух слов, разделенных пробелом. Переставьте эти слова местами. Результат запишите в строку и выведите получившуюся строку.\n",
    "\n",
    "При решении этой задачи нельзя пользоваться циклами и инструкцией if."
   ]
  },
  {
   "cell_type": "code",
   "execution_count": null,
   "metadata": {
    "tags": []
   },
   "outputs": [],
   "source": [
    "s = input()\n",
    "a, b = s.split(\" \")\n",
    "print(b + \" \" + a)"
   ]
  },
  {
   "cell_type": "markdown",
   "metadata": {},
   "source": [
    "## Задача D\n",
    "Дана строка, в которой буква h встречается минимум два раза. Удалите из этой строки первое и последнее вхождение буквы h, а также все символы, находящиеся между ними."
   ]
  },
  {
   "cell_type": "code",
   "execution_count": null,
   "metadata": {
    "tags": []
   },
   "outputs": [],
   "source": [
    "s = input()\n",
    "print(s[:s.find(\"h\")] + s[s.rfind(\"h\")+1:] if s[-1] != \"h\" else s[:s.find(\"h\")])"
   ]
  },
  {
   "cell_type": "markdown",
   "metadata": {},
   "source": [
    "## Задача E\n",
    "Переставьте соседние элементы списка (A[0] c A[1], A[2] c A[3] и т.д.). Если элементов нечетное число, то последний элемент остается на своем месте."
   ]
  },
  {
   "cell_type": "code",
   "execution_count": null,
   "metadata": {
    "tags": []
   },
   "outputs": [],
   "source": [
    "l = [x for x in input().split(\" \")]\n",
    "\n",
    "for i in range(0, len(l)-1, 2):\n",
    "    l[i], l[i+1] = l[i+1], l[i]\n",
    "print(l)"
   ]
  },
  {
   "cell_type": "markdown",
   "metadata": {},
   "source": [
    "## Задача F\n",
    "Дана строка, в которой буква h встречается как минимум два раза. Разверните последовательность символов, заключенную между первым и последнием появлением буквы h, в противоположном порядке."
   ]
  },
  {
   "cell_type": "code",
   "execution_count": null,
   "metadata": {
    "tags": []
   },
   "outputs": [],
   "source": [
    "s = input()\n",
    "first = s.find(\"h\")\n",
    "last = s.rfind(\"h\")\n",
    "print(s[:s.find(\"h\")+1] + s[s.rfind(\"h\")-1:s.find(\"h\"):-1] + s[s.rfind(\"h\"):])"
   ]
  },
  {
   "cell_type": "markdown",
   "metadata": {},
   "source": [
    "## Задача G\n",
    "Дана строка. Получите новую строку, вставив между двумя символами исходной строки символ *. Выведите полученную строку."
   ]
  },
  {
   "cell_type": "code",
   "execution_count": null,
   "metadata": {
    "tags": []
   },
   "outputs": [],
   "source": [
    "s = input()\n",
    "print(\"\".join(i + \"*\" for i in s)[:-1])"
   ]
  },
  {
   "cell_type": "markdown",
   "metadata": {},
   "source": [
    "## Задача H\n",
    "В списке все элементы различны. Поменяйте местами минимальный и максимальный элемент этого списка"
   ]
  },
  {
   "cell_type": "code",
   "execution_count": null,
   "metadata": {
    "tags": []
   },
   "outputs": [],
   "source": [
    "l = [x for x in input().split(\" \")]\n",
    "l[l.index(max(l))], l[l.index(min(l))] = l[l.index(min(l))], l[l.index(max(l))]\n",
    "print(l)"
   ]
  },
  {
   "cell_type": "markdown",
   "metadata": {},
   "source": [
    "## Задача I\n",
    "Дан список чисел, который может содержать до 100000 чисел. Определите, сколько в нем встречается различных чисел.\n",
    "\n",
    "Примечание. Эту задачу на Питоне можно решить в одну строчку."
   ]
  },
  {
   "cell_type": "code",
   "execution_count": null,
   "metadata": {
    "tags": []
   },
   "outputs": [],
   "source": [
    "l = l = [x for x in input().split(\" \")]\n",
    "s = set(l)\n",
    "print(len(s))"
   ]
  },
  {
   "cell_type": "markdown",
   "metadata": {},
   "source": [
    "## Задача J\n",
    "Даны два списка чисел, которые могут содержать до 100000 чисел каждый. Посчитайте, сколько чисел содержится одновременно как в первом списке, так и во втором.\n",
    "\n",
    "Примечание. Эту задачу на Питоне можно решить в одну строчку."
   ]
  },
  {
   "cell_type": "code",
   "execution_count": null,
   "metadata": {
    "tags": []
   },
   "outputs": [],
   "source": [
    "l = [x for x in input().split(\" \")]\n",
    "m = [x for x in input().split(\" \")]\n",
    "common = set(l)&set(m)\n",
    "print(len(common))"
   ]
  },
  {
   "cell_type": "markdown",
   "metadata": {},
   "source": [
    "## Задача K\n",
    "Во входной строке записана последовательность чисел через пробел. Для каждого числа выведите слово YES (в отдельной строке), если это число ранее встречалось в последовательности или NO, если не встречалось."
   ]
  },
  {
   "cell_type": "code",
   "execution_count": null,
   "metadata": {
    "tags": []
   },
   "outputs": [],
   "source": [
    "l = [x for x in input().split(\" \")]\n",
    "s = set()\n",
    "result = []\n",
    "for num in l:\n",
    "    if num in s:\n",
    "        result.append(\"YES\")\n",
    "    else:\n",
    "        result.append(\"NO\")\n",
    "        s.add(num)\n",
    "print(*result)"
   ]
  },
  {
   "cell_type": "markdown",
   "metadata": {},
   "source": [
    "## Задача L\n",
    "Во входном файле (вы можете читать данные из файла \"../data/mathematics_wiki.txt\") записан текст. Словом считается последовательность непробельных символов идущих подряд, слова разделены одним или большим числом пробелов или символами конца строки.\n",
    "\n",
    "Определите, сколько различных слов содержится в этом тексте."
   ]
  },
  {
   "cell_type": "code",
   "execution_count": null,
   "metadata": {
    "tags": []
   },
   "outputs": [],
   "source": [
    "input_file = open(\"../mathematics_wiki.txt\", 'r')\n",
    "\n",
    "words = input_file.readlines()[0].strip().split(\" \")\n",
    "unique_words = set(words)\n",
    "print(len(unique_words))"
   ]
  },
  {
   "cell_type": "markdown",
   "metadata": {
    "collapsed": true
   },
   "source": [
    "## Задача M\n",
    "Аня и Боря любят играть в разноцветные кубики, причем у каждого из них свой набор и в каждом наборе все кубики различны по цвету. Однажды дети заинтересовались, сколько существуют цветов таких, что кубики каждого цвета присутствуют в обоих наборах. Для этого они занумеровали все цвета случайными числами. На этом их энтузиазм иссяк, поэтому вам предлагается помочь им в оставшейся части.\n",
    "\n",
    "Номер любого цвета — это целое число в пределах от 0 до $10^9$."
   ]
  },
  {
   "cell_type": "code",
   "execution_count": null,
   "metadata": {
    "tags": []
   },
   "outputs": [],
   "source": [
    "a = [x for x in input().split(\" \")]\n",
    "b = [x for x in input().split(\" \")]\n",
    "# Не особо поняла из условия, что тут хотят. Возвращаю кол-во цветов, которые есть в обоих наборах.\n",
    "print(len(set(a)&set(b)))"
   ]
  },
  {
   "cell_type": "markdown",
   "metadata": {
    "collapsed": true
   },
   "source": [
    "## Задача N\n",
    "Каждый из N школьников некоторой школы знает $M_i$ языков. Определите, какие языки знают все школьники и языки, которые знает хотя бы один из школьников.\n",
    "\n",
    "Входные данные\n",
    "\n",
    "Первая строка входных данных содержит количество школьников N. Далее идет N чисел $M_i$, после каждого из чисел идет $M_i$ строк, содержащих названия языков, которые знает i-й школьник. Длина названий языков не превышает 1000 символов, количество различных языков не более 1000. $1 \\leq N \\leq 1000$, $1 \\leq M_i \\leq 500$.\n",
    "\n",
    "Выходные данные\n",
    "\n",
    "В первой строке выведите количество языков, которые знаю все школьники. Начиная со второй строки - список таких языков. Затем - количество языков, которые знает хотя бы один школьник, на следующих строках - список таких языков."
   ]
  },
  {
   "cell_type": "code",
   "execution_count": null,
   "metadata": {
    "tags": []
   },
   "outputs": [],
   "source": [
    "n = int(input())\n",
    "everybody, somebody = set(), set()\n",
    "for i in range(n):\n",
    "    n_langs = int(input())\n",
    "    langs = set()\n",
    "    for j in range(n_langs):\n",
    "        langs.add(input())\n",
    "    somebody = somebody.union(langs)\n",
    "    if i == 0:\n",
    "        everybody = everybody.union(langs)\n",
    "    else:\n",
    "        everybody = everybody.intersection(langs)\n",
    "\n",
    "print(len(everybody))\n",
    "print(everybody)\n",
    "print(len(somebody))\n",
    "print(somebody)"
   ]
  },
  {
   "cell_type": "markdown",
   "metadata": {},
   "source": [
    "## Задача O\n",
    "Во входном файле (вы можете читать данные из файла \"../data/mathematics_wiki.txt\") записан текст. Словом считается последовательность непробельных символов идущих подряд, слова разделены одним или большим числом пробелов или символами конца строки.\n",
    "\n",
    "Определите, сколько различных слов содержится в этом тексте."
   ]
  },
  {
   "cell_type": "code",
   "execution_count": null,
   "metadata": {},
   "outputs": [],
   "source": [
    "# Условие повторяет задачу L\n",
    "input_file = open(\"../mathematics_wiki.txt\", 'r')\n",
    "\n",
    "words = input_file.readlines()[0].strip().split(\" \")\n",
    "unique_words = set(words)\n",
    "print(len(unique_words))"
   ]
  }
 ],
 "metadata": {
  "kernelspec": {
   "display_name": "Python 3",
   "language": "python",
   "name": "python3"
  },
  "language_info": {
   "codemirror_mode": {
    "name": "ipython",
    "version": 3
   },
   "file_extension": ".py",
   "mimetype": "text/x-python",
   "name": "python",
   "nbconvert_exporter": "python",
   "pygments_lexer": "ipython3",
   "version": "3.7.6"
  }
 },
 "nbformat": 4,
 "nbformat_minor": 1
}
